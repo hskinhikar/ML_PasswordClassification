{
 "cells": [
  {
   "cell_type": "markdown",
   "id": "3e4438be",
   "metadata": {},
   "source": [
    "# Unsupervised Learning - K Means Algorithm"
   ]
  },
  {
   "cell_type": "code",
   "execution_count": 69,
   "id": "3e41be1a",
   "metadata": {},
   "outputs": [
    {
     "name": "stdout",
     "output_type": "stream",
     "text": [
      "Accuracy: 0.2549019607843137\n",
      "Precision: 0.31375\n",
      "Recall: 0.2549019607843137\n"
     ]
    }
   ],
   "source": [
    "import pandas as pd\n",
    "from sklearn.feature_extraction.text import TfidfVectorizer\n",
    "from sklearn.cluster import KMeans\n",
    "from sklearn.metrics import accuracy_score, precision_score, recall_score\n",
    "\n",
    "# Load data\n",
    "data = pd.read_excel('passwords_comp_set1.xlsx')\n",
    "passwords1 = data['passwords']\n",
    "passwords = [str(item) for item in passwords1]\n",
    "labels = data['label']  # Strength labels from 0 to 3\n",
    "\n",
    "# Convert passwords to numerical features\n",
    "vectorizer = TfidfVectorizer(max_features=1000,lowercase=False)\n",
    "X = vectorizer.fit_transform(passwords)\n",
    "\n",
    "# Apply K-means clustering\n",
    "num_clusters = 4  # 0 to 3 for strength levels\n",
    "kmeans = KMeans(n_clusters=num_clusters)\n",
    "cluster_labels = kmeans.fit_predict(X)\n",
    "\n",
    "# Calculate metrics\n",
    "accuracy = accuracy_score(labels, cluster_labels)\n",
    "precision = precision_score(labels, cluster_labels, average='weighted', zero_division=1)\n",
    "recall = recall_score(labels, cluster_labels, average='weighted', zero_division=1)\n",
    "\n",
    "print(\"Accuracy:\", accuracy)\n",
    "print(\"Precision:\", precision)\n",
    "print(\"Recall:\", recall)\n"
   ]
  },
  {
   "cell_type": "code",
   "execution_count": null,
   "id": "68a0f87e",
   "metadata": {},
   "outputs": [],
   "source": []
  }
 ],
 "metadata": {
  "kernelspec": {
   "display_name": "Python 3 (ipykernel)",
   "language": "python",
   "name": "python3"
  },
  "language_info": {
   "codemirror_mode": {
    "name": "ipython",
    "version": 3
   },
   "file_extension": ".py",
   "mimetype": "text/x-python",
   "name": "python",
   "nbconvert_exporter": "python",
   "pygments_lexer": "ipython3",
   "version": "3.9.7"
  }
 },
 "nbformat": 4,
 "nbformat_minor": 5
}
