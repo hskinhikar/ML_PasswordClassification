{
 "cells": [
  {
   "cell_type": "markdown",
   "id": "4d5bf155",
   "metadata": {},
   "source": [
    "# K Nearest Neighbours Algorithm"
   ]
  },
  {
   "cell_type": "code",
   "execution_count": 1,
   "id": "ce33f856",
   "metadata": {},
   "outputs": [],
   "source": [
    "import numpy as np\n",
    "import pandas as pd\n",
    "from sklearn.feature_extraction.text import TfidfVectorizer\n",
    "from sklearn.model_selection import train_test_split\n",
    "from sklearn.neighbors import KNeighborsClassifier\n",
    "from sklearn.metrics import accuracy_score, precision_score, recall_score\n",
    "import random\n",
    "import nltk\n",
    "from nltk.corpus import words\n",
    "from sklearn.pipeline import Pipeline\n"
   ]
  },
  {
   "cell_type": "code",
   "execution_count": 2,
   "id": "7d44a9e5",
   "metadata": {},
   "outputs": [],
   "source": [
    "data =pd.read_excel('3passwords_train.xlsx')\n",
    "passwords1 = data['passwords'].tolist()\n",
    "passwords = [str(item) for item in passwords1] #converts all strings and integer passwords into strings\n",
    "labels = data['label'].tolist()\n"
   ]
  },
  {
   "cell_type": "code",
   "execution_count": 3,
   "id": "e1c2c38c",
   "metadata": {},
   "outputs": [
    {
     "name": "stdout",
     "output_type": "stream",
     "text": [
      "Passwords have been converted into tokens\n"
     ]
    }
   ],
   "source": [
    "vectorizer = TfidfVectorizer(analyzer='char', lowercase=False)\n",
    "X = vectorizer.fit_transform(passwords)\n",
    "print('Passwords have been converted into tokens')\n"
   ]
  },
  {
   "cell_type": "code",
   "execution_count": 4,
   "id": "a63cefc1",
   "metadata": {},
   "outputs": [],
   "source": [
    "X_train, X_test, y_train, y_test = train_test_split(X, labels, test_size=0.2, random_state=42)\n"
   ]
  },
  {
   "cell_type": "code",
   "execution_count": 5,
   "id": "f258b4a4",
   "metadata": {},
   "outputs": [
    {
     "data": {
      "text/html": [
       "<style>#sk-container-id-1 {color: black;}#sk-container-id-1 pre{padding: 0;}#sk-container-id-1 div.sk-toggleable {background-color: white;}#sk-container-id-1 label.sk-toggleable__label {cursor: pointer;display: block;width: 100%;margin-bottom: 0;padding: 0.3em;box-sizing: border-box;text-align: center;}#sk-container-id-1 label.sk-toggleable__label-arrow:before {content: \"▸\";float: left;margin-right: 0.25em;color: #696969;}#sk-container-id-1 label.sk-toggleable__label-arrow:hover:before {color: black;}#sk-container-id-1 div.sk-estimator:hover label.sk-toggleable__label-arrow:before {color: black;}#sk-container-id-1 div.sk-toggleable__content {max-height: 0;max-width: 0;overflow: hidden;text-align: left;background-color: #f0f8ff;}#sk-container-id-1 div.sk-toggleable__content pre {margin: 0.2em;color: black;border-radius: 0.25em;background-color: #f0f8ff;}#sk-container-id-1 input.sk-toggleable__control:checked~div.sk-toggleable__content {max-height: 200px;max-width: 100%;overflow: auto;}#sk-container-id-1 input.sk-toggleable__control:checked~label.sk-toggleable__label-arrow:before {content: \"▾\";}#sk-container-id-1 div.sk-estimator input.sk-toggleable__control:checked~label.sk-toggleable__label {background-color: #d4ebff;}#sk-container-id-1 div.sk-label input.sk-toggleable__control:checked~label.sk-toggleable__label {background-color: #d4ebff;}#sk-container-id-1 input.sk-hidden--visually {border: 0;clip: rect(1px 1px 1px 1px);clip: rect(1px, 1px, 1px, 1px);height: 1px;margin: -1px;overflow: hidden;padding: 0;position: absolute;width: 1px;}#sk-container-id-1 div.sk-estimator {font-family: monospace;background-color: #f0f8ff;border: 1px dotted black;border-radius: 0.25em;box-sizing: border-box;margin-bottom: 0.5em;}#sk-container-id-1 div.sk-estimator:hover {background-color: #d4ebff;}#sk-container-id-1 div.sk-parallel-item::after {content: \"\";width: 100%;border-bottom: 1px solid gray;flex-grow: 1;}#sk-container-id-1 div.sk-label:hover label.sk-toggleable__label {background-color: #d4ebff;}#sk-container-id-1 div.sk-serial::before {content: \"\";position: absolute;border-left: 1px solid gray;box-sizing: border-box;top: 0;bottom: 0;left: 50%;z-index: 0;}#sk-container-id-1 div.sk-serial {display: flex;flex-direction: column;align-items: center;background-color: white;padding-right: 0.2em;padding-left: 0.2em;position: relative;}#sk-container-id-1 div.sk-item {position: relative;z-index: 1;}#sk-container-id-1 div.sk-parallel {display: flex;align-items: stretch;justify-content: center;background-color: white;position: relative;}#sk-container-id-1 div.sk-item::before, #sk-container-id-1 div.sk-parallel-item::before {content: \"\";position: absolute;border-left: 1px solid gray;box-sizing: border-box;top: 0;bottom: 0;left: 50%;z-index: -1;}#sk-container-id-1 div.sk-parallel-item {display: flex;flex-direction: column;z-index: 1;position: relative;background-color: white;}#sk-container-id-1 div.sk-parallel-item:first-child::after {align-self: flex-end;width: 50%;}#sk-container-id-1 div.sk-parallel-item:last-child::after {align-self: flex-start;width: 50%;}#sk-container-id-1 div.sk-parallel-item:only-child::after {width: 0;}#sk-container-id-1 div.sk-dashed-wrapped {border: 1px dashed gray;margin: 0 0.4em 0.5em 0.4em;box-sizing: border-box;padding-bottom: 0.4em;background-color: white;}#sk-container-id-1 div.sk-label label {font-family: monospace;font-weight: bold;display: inline-block;line-height: 1.2em;}#sk-container-id-1 div.sk-label-container {text-align: center;}#sk-container-id-1 div.sk-container {/* jupyter's `normalize.less` sets `[hidden] { display: none; }` but bootstrap.min.css set `[hidden] { display: none !important; }` so we also need the `!important` here to be able to override the default hidden behavior on the sphinx rendered scikit-learn.org. See: https://github.com/scikit-learn/scikit-learn/issues/21755 */display: inline-block !important;position: relative;}#sk-container-id-1 div.sk-text-repr-fallback {display: none;}</style><div id=\"sk-container-id-1\" class=\"sk-top-container\"><div class=\"sk-text-repr-fallback\"><pre>KNeighborsClassifier()</pre><b>In a Jupyter environment, please rerun this cell to show the HTML representation or trust the notebook. <br />On GitHub, the HTML representation is unable to render, please try loading this page with nbviewer.org.</b></div><div class=\"sk-container\" hidden><div class=\"sk-item\"><div class=\"sk-estimator sk-toggleable\"><input class=\"sk-toggleable__control sk-hidden--visually\" id=\"sk-estimator-id-1\" type=\"checkbox\" checked><label for=\"sk-estimator-id-1\" class=\"sk-toggleable__label sk-toggleable__label-arrow\">KNeighborsClassifier</label><div class=\"sk-toggleable__content\"><pre>KNeighborsClassifier()</pre></div></div></div></div></div>"
      ],
      "text/plain": [
       "KNeighborsClassifier()"
      ]
     },
     "execution_count": 5,
     "metadata": {},
     "output_type": "execute_result"
    }
   ],
   "source": [
    "k = 5  # Number of neighbors to consider\n",
    "knn_classifier = KNeighborsClassifier(n_neighbors=k)\n",
    "knn_classifier.fit(X_train, y_train)\n"
   ]
  },
  {
   "cell_type": "code",
   "execution_count": 6,
   "id": "8f0f4cb8",
   "metadata": {},
   "outputs": [],
   "source": [
    "predictions = knn_classifier.predict(X_test)"
   ]
  },
  {
   "cell_type": "code",
   "execution_count": 7,
   "id": "cf2af54a",
   "metadata": {},
   "outputs": [
    {
     "name": "stdout",
     "output_type": "stream",
     "text": [
      "Accuracy: 0.89\n",
      "Precision: 0.911764705882353\n",
      "Recall: 0.8928571428571429\n"
     ]
    }
   ],
   "source": [
    "accuracy = accuracy_score(y_test, predictions)\n",
    "precision = precision_score(y_test, predictions, average='weighted')\n",
    "recall = recall_score(y_test, predictions,average='weighted')\n",
    "print(f\"Accuracy: {accuracy:.2f}\")\n",
    "print(\"Precision:\", precision)\n",
    "print(\"Recall:\", recall)\n"
   ]
  },
  {
   "cell_type": "code",
   "execution_count": null,
   "id": "dc876ba5",
   "metadata": {},
   "outputs": [],
   "source": [
    "print('Phase 1 complete!')"
   ]
  },
  {
   "cell_type": "code",
   "execution_count": 183,
   "id": "ee3457a2",
   "metadata": {},
   "outputs": [],
   "source": [
    "#function that makes a password stronger\n",
    "\n",
    "# Download the NLTK words dataset if you haven't already\n",
    "import nltk\n",
    "\n",
    "\n",
    "# Get the list of English words from the NLTK corpus\n",
    "word_list = words.words()\n",
    "\n",
    "def strengthen_password(password, num_words, num_numbers):\n",
    "    new_password = password\n",
    "\n",
    "    # Add random words\n",
    "    for _ in range(num_words):\n",
    "        new_password += random.choice(word_list)\n",
    "\n",
    "    # Add random numbers\n",
    "    for _ in range(num_numbers):\n",
    "        new_password += str(random.randint(0, 9))\n",
    "\n",
    "    return new_password"
   ]
  },
  {
   "cell_type": "code",
   "execution_count": null,
   "id": "98b2bf1f",
   "metadata": {},
   "outputs": [],
   "source": [
    "\n",
    "\n",
    "# Build a pipeline combining the vectorizer and classifier\n",
    "pipeline = Pipeline([('vectorizer', vectorizer), ('classifier', knn_classifier)])\n",
    "\n",
    "# Fit the pipeline on the data\n",
    "pipeline.fit(passwords, labels)\n",
    "\n",
    "# Function to rate a password\n",
    "def rate_password(password):\n",
    "    # Convert the password into a list to match the input format\n",
    "    password_list = [password]\n",
    "    \n",
    "    # Predict the label (good or bad)\n",
    "    prediction = pipeline.predict(password_list)\n",
    "    \n",
    "    return prediction[0]\n",
    "\n",
    "# Test the rate_password function\n",
    "test_password = input('')\n",
    "rating = rate_password(test_password)\n",
    "\n",
    "if rating == 0:\n",
    "    rating_text = \"very weak\"\n",
    "    while rating == 0:\n",
    "        new_pass = strengthen_password(test_password,2,3)\n",
    "        rating = rate_password(new_pass)\n",
    "if rating == 1:\n",
    "    rating_text = \"weak\"\n",
    "    while rating == 1:\n",
    "        new_pass = strengthen_password(test_password,1,2)\n",
    "        rating = rate_password(new_pass)\n",
    "if rating == 2:\n",
    "    rating_text = \"good\"\n",
    "elif rating == 3:\n",
    "    rating_text = \" ideal\"\n",
    "\n",
    "print(f\"The password '{test_password}' is rated as {rating_text}\")\n"
   ]
  },
  {
   "cell_type": "code",
   "execution_count": 167,
   "id": "42cb1d7e",
   "metadata": {},
   "outputs": [
    {
     "name": "stdout",
     "output_type": "stream",
     "text": [
      "Original Password: s3cur3\n",
      "New Password: s3cur3carbonic45\n"
     ]
    }
   ],
   "source": [
    "#following snippet combines original password with a desireable word to create a new stronger password\n",
    "\n",
    "#nltk.download('words')\n",
    "\n",
    "\n",
    "# Load the NLTK words corpus\n",
    "nltk_words = set(words.words())\n",
    "\n",
    "def generate_password(input_password, target_word):\n",
    "    # Identify words in the input password\n",
    "    input_words = input_password.split()\n",
    "    \n",
    "    # Find similar words in the NLTK corpus\n",
    "    similar_words = [word for word in nltk_words if target_word in word]\n",
    "    \n",
    "    # Select a random similar word\n",
    "    if similar_words:\n",
    "        selected_word = random.choice(similar_words)\n",
    "    else:\n",
    "        selected_word = target_word\n",
    "    \n",
    "    # Generate a random number to append to the password\n",
    "    random_number = random.randint(10, 99)\n",
    "    \n",
    "    # Construct the new password\n",
    "    new_password = f\"{input_password}{selected_word}{random_number}\"\n",
    "    \n",
    "    return new_password\n",
    "\n",
    "# Test the password generation\n",
    "input_password = \"s3cur3\"\n",
    "target_word = \"carbon\"\n",
    "new_password = generate_password(input_password, target_word)\n",
    "\n",
    "print(\"Original Password:\", input_password)\n",
    "print(\"New Password:\", new_password)"
   ]
  },
  {
   "cell_type": "code",
   "execution_count": null,
   "id": "6ab3d102",
   "metadata": {},
   "outputs": [],
   "source": []
  }
 ],
 "metadata": {
  "kernelspec": {
   "display_name": "Python 3 (ipykernel)",
   "language": "python",
   "name": "python3"
  },
  "language_info": {
   "codemirror_mode": {
    "name": "ipython",
    "version": 3
   },
   "file_extension": ".py",
   "mimetype": "text/x-python",
   "name": "python",
   "nbconvert_exporter": "python",
   "pygments_lexer": "ipython3",
   "version": "3.9.7"
  }
 },
 "nbformat": 4,
 "nbformat_minor": 5
}
