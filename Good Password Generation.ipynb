{
 "cells": [
  {
   "cell_type": "code",
   "execution_count": 15,
   "id": "e19543c7",
   "metadata": {},
   "outputs": [
    {
     "name": "stdout",
     "output_type": "stream",
     "text": [
      "['jellyAppleBanana254', 'icecreamGrapeElephant975', 'icecreamGrapeDog206', 'appleJellyHoney455', 'icecreamdogFlower756', 'flowerjellyApple805', 'appleElephantCherry734', 'cherryFlowerElephant138', 'bananaJellyFlower491', 'appleHoneyElephant894', 'bananaElephantCherry700', 'honeydogGrape623', 'elephantFlowerHoney765', 'appleCherryDog325', 'appleGrapeJelly992', 'jellyAppleCherry830', 'cherryIcecreamJelly892', 'flowerBananaApple479', 'elephantJellyBanana347', 'applejellyElephant447', 'elephantJellyCherry470', 'elephantAppleDog135', 'icecreamHoneyBanana019', 'honeyJellyDog033', 'grapeicecreamApple236', 'icecreambananaCherry883', 'jellyhoneyIcecream462', 'icecreamappleDog743', 'dogjellyBanana830', 'dogBananaFlower073', 'honeyGrapeCherry514', 'icecreamelephantCherry957', 'honeyBananaApple588', 'icecreamGrapeElephant498', 'cherryJellyDog953', 'elephantAppleHoney644', 'appleElephantFlower778', 'jellyflowerHoney090', 'grapeAppleFlower792', 'cherryDogGrape593', 'bananaappleJelly122', 'dogElephantGrape247', 'elephantCherryIcecream444', 'elephantappleCherry358', 'icecreamBananaFlower461', 'cherryBananaHoney201', 'bananaHoneyElephant020', 'appleFlowerCherry358', 'jellyflowerElephant665', 'jellyAppleIcecream681', 'applejellyIcecream309', 'honeyjellyFlower345', 'applebananaDog656', 'icecreamcherryHoney603', 'bananaHoneyIcecream142', 'icecreamJellyApple882', 'dogGrapeFlower829', 'appleHoneyElephant290', 'flowerDogJelly524', 'elephantjellyFlower649', 'jellyCherryGrape397', 'dogFlowerElephant040', 'grapeIcecreamHoney168', 'flowerHoneyJelly399', 'bananadogFlower662', 'bananaJellyFlower960', 'grapeDogBanana127', 'elephantFlowerJelly825', 'cherrygrapeDog343', 'elephantJellyFlower842', 'grapeHoneyIcecream566', 'flowericecreamDog505', 'icecreamJellyDog314', 'honeyflowerCherry873', 'icecreamAppleBanana107', 'grapeflowerBanana067', 'cherryicecreamApple719', 'jellyBananaElephant256', 'icecreamDogElephant918', 'jellyDogApple214', 'elephantDogFlower574', 'flowerElephantGrape931', 'cherryFlowerGrape347', 'icecreambananaFlower058', 'icecreamFlowerElephant164', 'jellydogBanana766', 'flowerGrapeJelly930', 'jellyFlowerCherry629', 'grapebananaDog086', 'jellygrapeCherry395', 'appleCherryIcecream299', 'icecreamHoneyFlower750', 'applecherryBanana986', 'dogHoneyFlower723', 'icecreamGrapeFlower417', 'flowerdogJelly305', 'jellyicecreamGrape940', 'elephantappleCherry256', 'icecreamDogGrape341', 'bananaelephantIcecream924']\n",
      "Passwords saved to passwords.xlsx\n"
     ]
    }
   ],
   "source": [
    "#following code generates a clean dataset of passwords that can be used to train the model\n",
    "\n",
    "import random\n",
    "import string\n",
    "import openpyxl\n",
    "\n",
    "# Function to generate a random password\n",
    "def generate_password():\n",
    "    words = [\"apple\", \"banana\", \"cherry\", \"dog\", \"elephant\", \"flower\", \"grape\", \"honey\", \"icecream\", \"jelly\"]\n",
    "    random.shuffle(words)\n",
    "    random_words = words[:3]\n",
    "    \n",
    "    random_numbers = [str(random.randint(0, 9)) for _ in range(3)]\n",
    "    \n",
    "    for i in range(2):\n",
    "        word = random.choice(random_words)\n",
    "        random_words.remove(word)\n",
    "        random_words.append(word.capitalize())\n",
    "\n",
    "    password = ''.join(random_words + random_numbers)\n",
    "    return password\n",
    "\n",
    "# Generate 100 passwords\n",
    "passwords = [generate_password() for _ in range(100)]\n",
    "print(passwords)\n",
    " # Create an Excel workbook and sheet\n",
    "workbook = openpyxl.Workbook()\n",
    "sheet = workbook.active\n",
    "sheet.title = \"Passwords_med\"\n",
    "\n",
    "# Write passwords to Excel sheet\n",
    "for i, password in enumerate(passwords, start=1):\n",
    "    sheet.cell(row=i, column=1, value=password)\n",
    "\n",
    "# Save the Excel file\n",
    "workbook.save(\"passwords_3.xlsx\")\n",
    "print(\"Passwords saved to passwords.xlsx\")#\n"
   ]
  },
  {
   "cell_type": "code",
   "execution_count": null,
   "id": "57bbce30",
   "metadata": {},
   "outputs": [],
   "source": []
  }
 ],
 "metadata": {
  "kernelspec": {
   "display_name": "Python 3 (ipykernel)",
   "language": "python",
   "name": "python3"
  },
  "language_info": {
   "codemirror_mode": {
    "name": "ipython",
    "version": 3
   },
   "file_extension": ".py",
   "mimetype": "text/x-python",
   "name": "python",
   "nbconvert_exporter": "python",
   "pygments_lexer": "ipython3",
   "version": "3.9.7"
  }
 },
 "nbformat": 4,
 "nbformat_minor": 5
}
